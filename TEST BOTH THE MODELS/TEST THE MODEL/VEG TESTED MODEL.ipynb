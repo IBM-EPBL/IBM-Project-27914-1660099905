{
 "cells": [
  {
   "cell_type": "code",
   "execution_count": 1,
   "id": "40410d15",
   "metadata": {},
   "outputs": [],
   "source": [
    "from keras.preprocessing.image import ImageDataGenerator\n",
    "train_datagen=ImageDataGenerator(rescale=1./255,shear_range=0.2,zoom_range=0.2,horizontal_flip=True)\n",
    "test_datagen=ImageDataGenerator(rescale=1)"
   ]
  },
  {
   "cell_type": "code",
   "execution_count": 2,
   "id": "c8734b8d",
   "metadata": {},
   "outputs": [
    {
     "name": "stdout",
     "output_type": "stream",
     "text": [
      "Found 11386 images belonging to 9 classes.\n",
      "Found 11386 images belonging to 9 classes.\n"
     ]
    }
   ],
   "source": [
    "x_train=train_datagen.flow_from_directory(r'C:\\Users\\santh\\Dataset Plant Disease\\Veg-dataset\\Veg-dataset\\train_set',target_size=(128,128),batch_size=32,class_mode='categorical')\n",
    "x_test=test_datagen.flow_from_directory(r'C:\\Users\\santh\\Dataset Plant Disease\\Veg-dataset\\Veg-dataset\\train_set',target_size=(128,128),batch_size=32,class_mode='categorical')"
   ]
  },
  {
   "cell_type": "code",
   "execution_count": 3,
   "id": "6515fe9a",
   "metadata": {},
   "outputs": [],
   "source": [
    "from keras.models import Sequential\n",
    "from keras.layers import Dense\n",
    "from keras.layers import Convolution2D\n",
    "from keras.layers import MaxPooling2D\n",
    "from keras.layers import Flatten"
   ]
  },
  {
   "cell_type": "code",
   "execution_count": 4,
   "id": "e5ceda4f",
   "metadata": {},
   "outputs": [],
   "source": [
    "model=Sequential()"
   ]
  },
  {
   "cell_type": "code",
   "execution_count": 5,
   "id": "260e9e9c",
   "metadata": {},
   "outputs": [],
   "source": [
    "model.add(Convolution2D(32,(3,3),input_shape=(128,128,3),activation='relu'))"
   ]
  },
  {
   "cell_type": "code",
   "execution_count": 6,
   "id": "16de50be",
   "metadata": {},
   "outputs": [],
   "source": [
    "model.add(MaxPooling2D(pool_size=(2,2)))"
   ]
  },
  {
   "cell_type": "code",
   "execution_count": 7,
   "id": "fa8cbd09",
   "metadata": {},
   "outputs": [],
   "source": [
    "model.add(Flatten())"
   ]
  },
  {
   "cell_type": "code",
   "execution_count": 8,
   "id": "5c72d466",
   "metadata": {},
   "outputs": [],
   "source": [
    "model.add(Dense(units=300,kernel_initializer='uniform',activation='relu'))"
   ]
  },
  {
   "cell_type": "code",
   "execution_count": 9,
   "id": "98b5b676",
   "metadata": {},
   "outputs": [],
   "source": [
    "model.add(Dense(units=150,kernel_initializer='uniform',activation='relu'))"
   ]
  },
  {
   "cell_type": "code",
   "execution_count": 10,
   "id": "53152f69",
   "metadata": {},
   "outputs": [],
   "source": [
    "model.add(Dense(units=75,kernel_initializer='uniform',activation='relu'))"
   ]
  },
  {
   "cell_type": "code",
   "execution_count": 11,
   "id": "103ccba8",
   "metadata": {},
   "outputs": [],
   "source": [
    "model.add(Dense(units=9,kernel_initializer='uniform',activation='softmax'))"
   ]
  },
  {
   "cell_type": "code",
   "execution_count": 12,
   "id": "97b0afd2",
   "metadata": {},
   "outputs": [],
   "source": [
    "model.compile(loss='categorical_crossentropy',optimizer=\"adam\",metrics=[\"accuracy\"])"
   ]
  },
  {
   "cell_type": "code",
   "execution_count": 13,
   "id": "d8f54ef2",
   "metadata": {},
   "outputs": [
    {
     "name": "stdout",
     "output_type": "stream",
     "text": [
      "Epoch 1/20\n",
      "89/89 [==============================] - 176s 2s/step - loss: 1.9710 - accuracy: 0.2574 - val_loss: 144.2228 - val_accuracy: 0.3079\n",
      "Epoch 2/20\n",
      "89/89 [==============================] - 125s 1s/step - loss: 1.4196 - accuracy: 0.4905 - val_loss: 344.1161 - val_accuracy: 0.3125\n",
      "Epoch 3/20\n",
      "89/89 [==============================] - 142s 2s/step - loss: 1.1680 - accuracy: 0.5639 - val_loss: 641.9260 - val_accuracy: 0.3113\n",
      "Epoch 4/20\n",
      "89/89 [==============================] - 127s 1s/step - loss: 0.9969 - accuracy: 0.6316 - val_loss: 747.5580 - val_accuracy: 0.3368\n",
      "Epoch 5/20\n",
      "89/89 [==============================] - 80s 894ms/step - loss: 0.8280 - accuracy: 0.7005 - val_loss: 850.8323 - val_accuracy: 0.3299\n",
      "Epoch 6/20\n",
      "89/89 [==============================] - 67s 755ms/step - loss: 0.6819 - accuracy: 0.7542 - val_loss: 735.7803 - val_accuracy: 0.3912\n",
      "Epoch 7/20\n",
      "89/89 [==============================] - 66s 744ms/step - loss: 0.6975 - accuracy: 0.7491 - val_loss: 1130.7710 - val_accuracy: 0.3553\n",
      "Epoch 8/20\n",
      "89/89 [==============================] - 66s 732ms/step - loss: 0.5263 - accuracy: 0.8100 - val_loss: 1179.0321 - val_accuracy: 0.3924\n",
      "Epoch 9/20\n",
      "89/89 [==============================] - 54s 605ms/step - loss: 0.5278 - accuracy: 0.8069 - val_loss: 1135.7893 - val_accuracy: 0.3461\n",
      "Epoch 10/20\n",
      "89/89 [==============================] - 53s 591ms/step - loss: 0.4686 - accuracy: 0.8286 - val_loss: 1164.2302 - val_accuracy: 0.3877\n",
      "Epoch 11/20\n",
      "89/89 [==============================] - 51s 573ms/step - loss: 0.4736 - accuracy: 0.8339 - val_loss: 1325.4299 - val_accuracy: 0.3704\n",
      "Epoch 12/20\n",
      "89/89 [==============================] - 50s 562ms/step - loss: 0.4264 - accuracy: 0.8487 - val_loss: 1139.5693 - val_accuracy: 0.4363\n",
      "Epoch 13/20\n",
      "89/89 [==============================] - 48s 539ms/step - loss: 0.3915 - accuracy: 0.8687 - val_loss: 1101.4716 - val_accuracy: 0.4595\n",
      "Epoch 14/20\n",
      "89/89 [==============================] - 47s 525ms/step - loss: 0.3454 - accuracy: 0.8761 - val_loss: 1678.6227 - val_accuracy: 0.3380\n",
      "Epoch 15/20\n",
      "89/89 [==============================] - 45s 503ms/step - loss: 0.3972 - accuracy: 0.8631 - val_loss: 1520.2268 - val_accuracy: 0.3356\n",
      "Epoch 16/20\n",
      "89/89 [==============================] - 44s 496ms/step - loss: 0.3681 - accuracy: 0.8729 - val_loss: 1323.8252 - val_accuracy: 0.4248\n",
      "Epoch 17/20\n",
      "89/89 [==============================] - 45s 502ms/step - loss: 0.3337 - accuracy: 0.8881 - val_loss: 1412.1350 - val_accuracy: 0.3738\n",
      "Epoch 18/20\n",
      "89/89 [==============================] - 45s 500ms/step - loss: 0.3062 - accuracy: 0.8913 - val_loss: 1479.1774 - val_accuracy: 0.4005\n",
      "Epoch 19/20\n",
      "89/89 [==============================] - 43s 488ms/step - loss: 0.3404 - accuracy: 0.8726 - val_loss: 1362.2310 - val_accuracy: 0.4248\n",
      "Epoch 20/20\n",
      "89/89 [==============================] - 44s 498ms/step - loss: 0.3205 - accuracy: 0.8873 - val_loss: 1423.0576 - val_accuracy: 0.4097\n"
     ]
    },
    {
     "data": {
      "text/plain": [
       "<keras.callbacks.History at 0x16de71c4e50>"
      ]
     },
     "execution_count": 13,
     "metadata": {},
     "output_type": "execute_result"
    }
   ],
   "source": [
    "model.fit(x_train,steps_per_epoch=89,epochs=20,validation_data=x_test,validation_steps=27)"
   ]
  },
  {
   "cell_type": "code",
   "execution_count": 14,
   "id": "db38c703",
   "metadata": {},
   "outputs": [],
   "source": [
    "model.save('vegetabledata.h5')"
   ]
  },
  {
   "cell_type": "code",
   "execution_count": 15,
   "id": "aaae47cf",
   "metadata": {},
   "outputs": [
    {
     "name": "stdout",
     "output_type": "stream",
     "text": [
      "Model: \"sequential\"\n",
      "_________________________________________________________________\n",
      " Layer (type)                Output Shape              Param #   \n",
      "=================================================================\n",
      " conv2d (Conv2D)             (None, 126, 126, 32)      896       \n",
      "                                                                 \n",
      " max_pooling2d (MaxPooling2D  (None, 63, 63, 32)       0         \n",
      " )                                                               \n",
      "                                                                 \n",
      " flatten (Flatten)           (None, 127008)            0         \n",
      "                                                                 \n",
      " dense (Dense)               (None, 300)               38102700  \n",
      "                                                                 \n",
      " dense_1 (Dense)             (None, 150)               45150     \n",
      "                                                                 \n",
      " dense_2 (Dense)             (None, 75)                11325     \n",
      "                                                                 \n",
      " dense_3 (Dense)             (None, 9)                 684       \n",
      "                                                                 \n",
      "=================================================================\n",
      "Total params: 38,160,755\n",
      "Trainable params: 38,160,755\n",
      "Non-trainable params: 0\n",
      "_________________________________________________________________\n"
     ]
    }
   ],
   "source": [
    "model.summary()"
   ]
  },
  {
   "cell_type": "code",
   "execution_count": 16,
   "id": "88ecb799",
   "metadata": {},
   "outputs": [],
   "source": [
    "from tensorflow.keras.models import load_model\n",
    "from tensorflow.keras.preprocessing import image\n",
    "import numpy as np"
   ]
  },
  {
   "cell_type": "code",
   "execution_count": 17,
   "id": "1eb021fb",
   "metadata": {},
   "outputs": [],
   "source": [
    "model=load_model('vegetabledata.h5')"
   ]
  },
  {
   "cell_type": "code",
   "execution_count": 18,
   "id": "03023bb9",
   "metadata": {},
   "outputs": [],
   "source": [
    "img=image.load_img(r'C:\\Users\\santh\\Dataset Plant Disease\\Veg-dataset\\Veg-dataset\\test_set\\Tomato___Late_blight\\c5b2af5b-c27f-4ed3-83e5-e2bfe096f024___RS_Late.B 6918.JPG',target_size=(128,128))"
   ]
  },
  {
   "cell_type": "code",
   "execution_count": 19,
   "id": "4e82f1f9",
   "metadata": {},
   "outputs": [],
   "source": [
    "x=image.img_to_array(img)"
   ]
  },
  {
   "cell_type": "code",
   "execution_count": 20,
   "id": "cfae1203",
   "metadata": {},
   "outputs": [],
   "source": [
    "x=np.expand_dims(x,axis=0)"
   ]
  },
  {
   "cell_type": "code",
   "execution_count": 21,
   "id": "1f16055e",
   "metadata": {},
   "outputs": [
    {
     "name": "stdout",
     "output_type": "stream",
     "text": [
      "1/1 [==============================] - 1s 744ms/step\n"
     ]
    }
   ],
   "source": [
    "pred=model.predict(x)"
   ]
  },
  {
   "cell_type": "code",
   "execution_count": 22,
   "id": "6d41297c",
   "metadata": {},
   "outputs": [
    {
     "data": {
      "text/plain": [
       "array([[0., 0., 1., 0., 0., 0., 0., 0., 0.]], dtype=float32)"
      ]
     },
     "execution_count": 22,
     "metadata": {},
     "output_type": "execute_result"
    }
   ],
   "source": [
    "pred"
   ]
  },
  {
   "cell_type": "code",
   "execution_count": 23,
   "id": "b16adce6",
   "metadata": {},
   "outputs": [],
   "source": [
    "list=['Pepper,_bell___Bacterial_spot','Pepper,_bell___healthy','Potato___Early_blight','Potato___healthy','Potato___Late_blight','Tomato___Bacterial_spot','Tomato___Late_blight','Tomato___Leaf_Mold','Tomato___Septoria_leaf_spot']"
   ]
  },
  {
   "cell_type": "code",
   "execution_count": 24,
   "id": "64e15b76",
   "metadata": {},
   "outputs": [
    {
     "name": "stdout",
     "output_type": "stream",
     "text": [
      "Potato___Early_blight\n"
     ]
    }
   ],
   "source": [
    "print(list[np.argmax(pred)])"
   ]
  },
  {
   "cell_type": "code",
   "execution_count": null,
   "id": "1b5d89bc",
   "metadata": {},
   "outputs": [],
   "source": []
  }
 ],
 "metadata": {
  "kernelspec": {
   "display_name": "Python 3 (ipykernel)",
   "language": "python",
   "name": "python3"
  },
  "language_info": {
   "codemirror_mode": {
    "name": "ipython",
    "version": 3
   },
   "file_extension": ".py",
   "mimetype": "text/x-python",
   "name": "python",
   "nbconvert_exporter": "python",
   "pygments_lexer": "ipython3",
   "version": "3.9.13"
  }
 },
 "nbformat": 4,
 "nbformat_minor": 5
}
